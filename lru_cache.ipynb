{
 "cells": [
  {
   "cell_type": "code",
   "execution_count": 1,
   "metadata": {},
   "outputs": [],
   "source": [
    "class LinkedListNode:\n",
    "    def __init__(self, key, value) -> None:\n",
    "        self.key = key\n",
    "        self.value = value\n",
    "        self.prev = None\n",
    "        self.next = None"
   ]
  },
  {
   "cell_type": "markdown",
   "metadata": {},
   "source": [
    "So the idea is we will have a double linked list with head and tail always 0:    \n",
    "And the least used will always be the one previous to the tail, \n",
    "And the one recently accesed or added will be next to head."
   ]
  },
  {
   "cell_type": "code",
   "execution_count": 2,
   "metadata": {},
   "outputs": [],
   "source": [
    "class LRUCache:\n",
    "    def __init__(self, cap: int) -> None:\n",
    "        self.cap = cap\n",
    "        self.cache = {}\n",
    "        self.head = LinkedListNode(0,0)\n",
    "        self.tail = LinkedListNode(0,0)\n",
    "        self.head.next = self.tail; self.tail.prev = self.head\n",
    "\n",
    "    def get(self, key: int):\n",
    "        if key in self.cache:\n",
    "            node = self.cache[key]\n",
    "            self.move_to_head(node)\n",
    "            return node.value\n",
    "        else:\n",
    "            return -1\n",
    "    def move_to_head(self, node):\n",
    "        self.remove_node(node)\n",
    "        self.add_after_head(node)\n",
    "    def remove_node(self, node):\n",
    "        prev_node = node.prev ; next_node = node.next\n",
    "        prev_node.next = next_node ; next_node.prev = prev_node\n",
    "    def add_after_head(self, node):\n",
    "        node.prev = self.head ; node.next = self.head.next\n",
    "        self.head.next.prev = node; self.head.next = node\n",
    "\n",
    "    def put(self, key: int, value: int):\n",
    "        if key in self.cache:\n",
    "            node = self.cache[key]\n",
    "            node.value = value\n",
    "            self.move_to_head(node)\n",
    "        else:\n",
    "            if len(self.cache) >= self.cap:\n",
    "                lru_node = self.tail.prev \n",
    "                self.remove_node(lru_node)\n",
    "                del self.cache[lru_node.key]\n",
    "            \n",
    "            new_node = LinkedListNode(key, value)\n",
    "            self.cache[key] = new_node\n",
    "            self.add_after_head(new_node)\n",
    "        "
   ]
  },
  {
   "cell_type": "code",
   "execution_count": 5,
   "metadata": {},
   "outputs": [
    {
     "name": "stdout",
     "output_type": "stream",
     "text": [
      "1\n",
      "-1\n"
     ]
    }
   ],
   "source": [
    "g = LRUCache(2)\n",
    "g.put(1,1)\n",
    "g.put(2,2)\n",
    "print(g.get(1))\n",
    "g.put(3,3)\n",
    "print(g.get(2))"
   ]
  },
  {
   "cell_type": "code",
   "execution_count": null,
   "metadata": {},
   "outputs": [],
   "source": []
  }
 ],
 "metadata": {
  "kernelspec": {
   "display_name": "Python 3",
   "language": "python",
   "name": "python3"
  },
  "language_info": {
   "codemirror_mode": {
    "name": "ipython",
    "version": 3
   },
   "file_extension": ".py",
   "mimetype": "text/x-python",
   "name": "python",
   "nbconvert_exporter": "python",
   "pygments_lexer": "ipython3",
   "version": "3.10.6"
  },
  "orig_nbformat": 4
 },
 "nbformat": 4,
 "nbformat_minor": 2
}
